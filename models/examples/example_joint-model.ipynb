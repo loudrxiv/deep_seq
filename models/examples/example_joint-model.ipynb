{
 "cells": [
  {
   "cell_type": "code",
   "execution_count": 5,
   "id": "e2894847-4a89-4354-86fa-52bd03e289aa",
   "metadata": {},
   "outputs": [],
   "source": [
    "import tensorflow as tf\n",
    "import numpy as np\n",
    "import matplotlib.pyplot as plt\n",
    "import matplotlib.gridspec as gridspec\n",
    "import os\n",
    "import pandas as pd\n",
    "import math\n",
    "import sklearn.preprocessing as sk\n",
    "from sklearn import metrics\n",
    "import random"
   ]
  },
  {
   "cell_type": "code",
   "execution_count": 4,
   "id": "75d89b5d-3a9f-4de6-9b74-55e41a234aaf",
   "metadata": {},
   "outputs": [
    {
     "name": "stdout",
     "output_type": "stream",
     "text": [
      "Collecting matplotlib\n",
      "  Downloading matplotlib-3.5.2-cp38-cp38-manylinux_2_5_x86_64.manylinux1_x86_64.whl (11.3 MB)\n",
      "\u001b[K     |████████████████████████████████| 11.3 MB 11.6 MB/s eta 0:00:01\n",
      "\u001b[?25hCollecting fonttools>=4.22.0\n",
      "  Downloading fonttools-4.33.3-py3-none-any.whl (930 kB)\n",
      "\u001b[K     |████████████████████████████████| 930 kB 116.4 MB/s eta 0:00:01\n",
      "\u001b[?25hRequirement already satisfied: packaging>=20.0 in /usr/local/lib/python3.8/dist-packages (from matplotlib) (21.3)\n",
      "Requirement already satisfied: numpy>=1.17 in /usr/local/lib/python3.8/dist-packages (from matplotlib) (1.19.5)\n",
      "Requirement already satisfied: pyparsing>=2.2.1 in /usr/local/lib/python3.8/dist-packages (from matplotlib) (3.0.7)\n",
      "Collecting pillow>=6.2.0\n",
      "  Downloading Pillow-9.1.1-cp38-cp38-manylinux_2_17_x86_64.manylinux2014_x86_64.whl (3.1 MB)\n",
      "\u001b[K     |████████████████████████████████| 3.1 MB 104.5 MB/s eta 0:00:01\n",
      "\u001b[?25hCollecting kiwisolver>=1.0.1\n",
      "  Downloading kiwisolver-1.4.3-cp38-cp38-manylinux_2_5_x86_64.manylinux1_x86_64.whl (1.2 MB)\n",
      "\u001b[K     |████████████████████████████████| 1.2 MB 124.5 MB/s eta 0:00:01\n",
      "\u001b[?25hCollecting cycler>=0.10\n",
      "  Downloading cycler-0.11.0-py3-none-any.whl (6.4 kB)\n",
      "Requirement already satisfied: python-dateutil>=2.7 in /usr/local/lib/python3.8/dist-packages (from matplotlib) (2.8.2)\n",
      "Requirement already satisfied: six>=1.5 in /usr/local/lib/python3.8/dist-packages (from python-dateutil>=2.7->matplotlib) (1.15.0)\n",
      "Installing collected packages: fonttools, pillow, kiwisolver, cycler, matplotlib\n",
      "\u001b[33m  WARNING: The scripts fonttools, pyftmerge, pyftsubset and ttx are installed in '/home/mae117/.local/bin' which is not on PATH.\n",
      "  Consider adding this directory to PATH or, if you prefer to suppress this warning, use --no-warn-script-location.\u001b[0m\n",
      "Successfully installed cycler-0.11.0 fonttools-4.33.3 kiwisolver-1.4.3 matplotlib-3.5.2 pillow-9.1.1\n"
     ]
    }
   ],
   "source": [
    "!pip install matplotlib"
   ]
  },
  {
   "cell_type": "markdown",
   "id": "75d4b219-9ced-4070-805d-4a07613213c3",
   "metadata": {},
   "source": [
    "# Create & Load Data"
   ]
  },
  {
   "cell_type": "code",
   "execution_count": 7,
   "id": "01478844-fb9e-4492-94ea-1a0c1dd8c9bf",
   "metadata": {},
   "outputs": [],
   "source": [
    "seed = 42\n",
    "random.seed(seed)\n",
    "\n",
    "N = 10000\n",
    "M = 100\n",
    "c = 0.5\n",
    "p = 0.9\n",
    "\n",
    "k     = np.random.randn(M)\n",
    "u1    = np.random.randn(M)\n",
    "\n",
    "u1    -= u1.dot(k) * k / np.linalg.norm(k)**2\n",
    "u1    /= np.linalg.norm(u1) \n",
    "k     /= np.linalg.norm(k) \n",
    "u2    = k\n",
    "\n",
    "w1    = c*u1\n",
    "w2    = c*(p*u1+np.sqrt((1-p**2))*u2)\n",
    "\n",
    "X     = np.random.normal(0, 1, (N, M))\n",
    "eps1  = np.random.normal(0, 0.01)\n",
    "eps2  = np.random.normal(0, 0.01)\n",
    "Y1    = np.matmul(X, w1) + np.sin(np.matmul(X, w1))+eps1\n",
    "Y2    = np.matmul(X, w2) + np.sin(np.matmul(X, w2))+eps2\n",
    "\n",
    "split = list(np.random.permutation(N))"
   ]
  },
  {
   "cell_type": "code",
   "execution_count": 19,
   "id": "314445ea-72ff-4e84-b5ef-37b1f7bdc348",
   "metadata": {},
   "outputs": [
    {
     "data": {
      "text/plain": [
       "(10000,)"
      ]
     },
     "execution_count": 19,
     "metadata": {},
     "output_type": "execute_result"
    }
   ],
   "source": [
    "Y1.shape"
   ]
  },
  {
   "cell_type": "code",
   "execution_count": 20,
   "id": "48bfebb8-f386-40be-8e5e-6137d2ccbd6d",
   "metadata": {},
   "outputs": [
    {
     "data": {
      "text/plain": [
       "(10000,)"
      ]
     },
     "execution_count": 20,
     "metadata": {},
     "output_type": "execute_result"
    }
   ],
   "source": [
    "Y2.shape"
   ]
  },
  {
   "cell_type": "code",
   "execution_count": 21,
   "id": "f1f2d5a7-b6ef-4900-8f4e-9aa07189b399",
   "metadata": {},
   "outputs": [
    {
     "data": {
      "text/plain": [
       "(10000, 100)"
      ]
     },
     "execution_count": 21,
     "metadata": {},
     "output_type": "execute_result"
    }
   ],
   "source": [
    "X.shape"
   ]
  },
  {
   "cell_type": "code",
   "execution_count": 24,
   "id": "8b7d5cae-063b-4f5f-bcf6-66e161f911d0",
   "metadata": {},
   "outputs": [
    {
     "data": {
      "text/plain": [
       "0"
      ]
     },
     "execution_count": 24,
     "metadata": {},
     "output_type": "execute_result"
    }
   ],
   "source": [
    "min(split)"
   ]
  },
  {
   "cell_type": "markdown",
   "id": "ae695e2a-55f5-4b4c-8f88-3391d1c346c9",
   "metadata": {},
   "source": [
    "# Configure Data"
   ]
  },
  {
   "cell_type": "code",
   "execution_count": 25,
   "id": "a52df643-678a-48c6-81b2-07365901818b",
   "metadata": {},
   "outputs": [],
   "source": [
    "X_train = X[split[0:8000],:]\n",
    "Y1_train = Y1[split[0:8000]].reshape(-1,1)\n",
    "Y2_train = Y2[split[0:8000]].reshape(-1,1)\n",
    "\n",
    "X_valid = X[8000:9000,:]\n",
    "Y1_valid = Y1[8000:9000].reshape(-1,1)\n",
    "Y2_valid = Y2[8000:9000].reshape(-1,1)\n",
    "\n",
    "X_test = X[9000:10000,:]\n",
    "Y1_test = Y1[9000:10000].reshape(-1,1)\n",
    "Y2_test = Y2[9000:10000].reshape(-1,1)"
   ]
  }
 ],
 "metadata": {
  "kernelspec": {
   "display_name": "Python 3 (ipykernel)",
   "language": "python",
   "name": "python3"
  },
  "language_info": {
   "codemirror_mode": {
    "name": "ipython",
    "version": 3
   },
   "file_extension": ".py",
   "mimetype": "text/x-python",
   "name": "python",
   "nbconvert_exporter": "python",
   "pygments_lexer": "ipython3",
   "version": "3.8.10"
  }
 },
 "nbformat": 4,
 "nbformat_minor": 5
}
